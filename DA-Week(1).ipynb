{
 "cells": [
  {
   "cell_type": "markdown",
   "id": "4e7dbb92",
   "metadata": {},
   "source": [
    "# HEMANG MALIK (220968092)\n",
    "#### Lab-1"
   ]
  },
  {
   "cell_type": "code",
   "execution_count": 17,
   "id": "293f419d",
   "metadata": {
    "scrolled": true
   },
   "outputs": [
    {
     "name": "stdout",
     "output_type": "stream",
     "text": [
      "Enter the number1\n",
      "Enter the number2\n",
      "Enter the number3\n",
      "Enter the number4\n",
      "Enter the number5\n",
      "Enter the number6\n",
      "Enter the number7\n",
      "Enter the number8\n",
      "Enter the number9\n",
      "Enter the number10\n",
      "5\n"
     ]
    }
   ],
   "source": [
    "# Create Python program to find the average of 10 numbers using while loop\n",
    "i=0\n",
    "sum=0\n",
    "while i<10:\n",
    "    n=int(input(\"Enter the number\"))\n",
    "    sum=sum+n\n",
    "    i += 1\n",
    "print(int(sum/10))\n"
   ]
  },
  {
   "cell_type": "markdown",
   "id": "8065c930",
   "metadata": {},
   "source": [
    "### Create Python program to find the geometric mean of n numbers"
   ]
  },
  {
   "cell_type": "code",
   "execution_count": 3,
   "id": "c55c60ce",
   "metadata": {},
   "outputs": [
    {
     "name": "stdout",
     "output_type": "stream",
     "text": [
      "enter how many numbers3\n",
      "Enter the number4\n",
      "Enter the number4\n",
      "Enter the number4\n",
      "8.0\n"
     ]
    }
   ],
   "source": [
    "i1=0\n",
    "pr=1\n",
    "n1=int(input(\"enter how many numbers\"))\n",
    "while i1<n1:\n",
    "    k=int(input(\"Enter the number\"))\n",
    "    pr=pr*k\n",
    "    i1 += 1\n",
    "print(pow(pr,0.5))"
   ]
  },
  {
   "cell_type": "markdown",
   "id": "105954bd",
   "metadata": {},
   "source": [
    "### Create Python program to check whether the given integer is a prime number or not"
   ]
  },
  {
   "cell_type": "code",
   "execution_count": 3,
   "id": "66d4277a",
   "metadata": {},
   "outputs": [
    {
     "name": "stdout",
     "output_type": "stream",
     "text": [
      "Enter the number6\n",
      "Not prime\n"
     ]
    }
   ],
   "source": [
    "i2=2\n",
    "prime=0\n",
    "num=int(input(\"Enter the number\"))\n",
    "while i2<=num/2:\n",
    "    if (num%i2==0):\n",
    "        prime=1\n",
    "        break\n",
    "if prime==0:\n",
    "    print(\"It is prime\")\n",
    "else:\n",
    "    print(\"Not prime\")\n",
    "    "
   ]
  },
  {
   "cell_type": "markdown",
   "id": "0bc2dd5b",
   "metadata": {},
   "source": [
    "### Create Python program to implement linear search  "
   ]
  },
  {
   "cell_type": "code",
   "execution_count": 9,
   "id": "1233a013",
   "metadata": {
    "scrolled": false
   },
   "outputs": [
    {
     "name": "stdout",
     "output_type": "stream",
     "text": [
      "Enter the number23\n",
      "not found\n"
     ]
    }
   ],
   "source": [
    "numbers = [6,8,12,15,16,24,35,43,54]\n",
    "f = 0 \n",
    "x = int(input(\"Enter the number\"))\n",
    "for i in range(len(numbers)):\n",
    "    if (x==numbers[i]):\n",
    "        print(\"Found\")\n",
    "        f = 1\n",
    "        break\n",
    "if(f==0):\n",
    "    print(\"not found\")"
   ]
  },
  {
   "cell_type": "markdown",
   "id": "0d7dbbba",
   "metadata": {},
   "source": [
    "### Create Python program to implement binary search "
   ]
  },
  {
   "cell_type": "code",
   "execution_count": 5,
   "id": "66c4c697",
   "metadata": {
    "scrolled": true
   },
   "outputs": [
    {
     "name": "stdout",
     "output_type": "stream",
     "text": [
      "enter number6\n",
      "found\n"
     ]
    }
   ],
   "source": [
    "numbers = [6,8,12,15,16,24,35,43,54]\n",
    "x=int(input(\"enter number\"))\n",
    "def binarySearch(numbers, low, high, x1):\n",
    "    if (high >= low):\n",
    "        mid = low + (high - low)//2\n",
    "        if (numbers[mid] == x1):\n",
    "            return mid\n",
    "        elif (numbers[mid] > x1):\n",
    "            return binarySearch(numbers, low, mid-1, x1)\n",
    "        else:\n",
    "            return binarySearch(numbers, mid+1, high, x1)\n",
    "    else:\n",
    "        return -1\n",
    "result = binarySearch(numbers, 0, len(numbers)-1, x)\n",
    "if (result != -1):\n",
    "    print(\"found\")\n",
    "else:\n",
    "    print(\"not found\")"
   ]
  },
  {
   "cell_type": "markdown",
   "id": "00337e91",
   "metadata": {},
   "source": [
    "### Using math package, Create Python program to find the area of a triangle whose sides are given"
   ]
  },
  {
   "cell_type": "code",
   "execution_count": 3,
   "id": "b75bedf4",
   "metadata": {},
   "outputs": [
    {
     "name": "stdout",
     "output_type": "stream",
     "text": [
      "Enter side a4\n",
      "Enter side b3\n",
      "Enter side c6\n",
      "5.332682251925386\n"
     ]
    }
   ],
   "source": [
    "import math as m\n",
    "a=int(input(\"Enter side a\"))\n",
    "b=int(input(\"Enter side b\"))\n",
    "c=int(input(\"Enter side c\"))\n",
    "s=(a+b+c)/2\n",
    "area=m.sqrt(s*(s-a)*(s-b)*(s-c))\n",
    "print(area)"
   ]
  },
  {
   "cell_type": "markdown",
   "id": "7818a481",
   "metadata": {},
   "source": [
    "# Introduction to Pandas\n",
    "## Data frame creation and manipulation\n"
   ]
  },
  {
   "cell_type": "code",
   "execution_count": 16,
   "id": "8d6c97ca",
   "metadata": {
    "scrolled": true
   },
   "outputs": [
    {
     "name": "stdout",
     "output_type": "stream",
     "text": [
      "   Roll No Name  Gender  Marks1  Marks2  Marks3\n",
      "0        1    A    Male      20      54      68\n",
      "1        2    B    Male      54      86      98\n",
      "2        3    c  Female      64      87      33\n",
      "3        4    D  Female      53      32      29\n",
      "4        5    E  Female      87      15      47\n",
      "5        6    F    Male      90       4      62\n",
      "6        7    G    Male      98      68      89\n",
      "7        8    H  Female      33      98      87\n",
      "8        9    I    Male      49      88      52\n",
      "9       10    J  Female      60     100      20\n"
     ]
    }
   ],
   "source": [
    "#Create a data frame with details of 10 students and columns as Roll Number, Name,\n",
    "#Gender, Marks1, Marks2, Marks3.\n",
    "import pandas as pd\n",
    "sample = {\n",
    "    \"Roll No\": [1, 2, 3,4,5,6,7,8,9,10],\n",
    "    \"Name\": [\"A\", \"B\", \"c\",\"D\",\"E\",\"F\",\"G\",\"H\",\"I\",\"J\"],\n",
    "    \"Gender\":[\"Male\", \"Male\", \"Female\",\"Female\",\"Female\",\"Male\",\"Male\",\"Female\",\"Male\",\"Female\"],\n",
    "    \"Marks1\": [20,54,64,53,87,90,98,33,49,60],\n",
    "    \"Marks2\": [54,86,87,32,15,4,68,98,88,100],\n",
    "    \"Marks3\": [68,98,33,29,47,62,89,87,52,20]\n",
    "}\n",
    "#data is entered in dictionary form and it is called sample \n",
    "df = pd.DataFrame(sample) #data is loaded into dataframe object\n",
    "print(df)\n",
    "\n"
   ]
  },
  {
   "cell_type": "code",
   "execution_count": 3,
   "id": "bb0f7a9e",
   "metadata": {
    "scrolled": true
   },
   "outputs": [
    {
     "name": "stdout",
     "output_type": "stream",
     "text": [
      "   Roll No Name  Gender  Marks1  Marks2  Marks3  total\n",
      "0        1    A    Male      20      54      68    142\n",
      "1        2    B    Male      54      86      98    238\n",
      "2        3    c  Female      64      87      33    184\n",
      "3        4    D  Female      53      32      29    114\n",
      "4        5    E  Female      87      15      47    149\n",
      "5        6    F    Male      90       4      62    156\n",
      "6        7    G    Male      98      68      89    255\n",
      "7        8    H  Female      33      98      87    218\n",
      "8        9    I    Male      49      88      52    189\n",
      "9       10    J  Female      60     100      20    180\n"
     ]
    }
   ],
   "source": [
    "#Create a new column with total marks\n",
    "df[\"total\"]=df.Marks1+df.Marks2+df.Marks3 #creating a new column and adding marks to it\n",
    "print(df)"
   ]
  },
  {
   "cell_type": "code",
   "execution_count": 5,
   "id": "0b92f9b3",
   "metadata": {},
   "outputs": [
    {
     "name": "stdout",
     "output_type": "stream",
     "text": [
      "20\n",
      "100\n",
      "58.5\n"
     ]
    }
   ],
   "source": [
    "#Find the lowest marks in Marks1\n",
    "#Find the Highest marks in Marks2\n",
    "#Find the average marks in Marks3\n",
    "\n",
    "#to find min in column\n",
    "print(df.Marks1.min())\n",
    "\n",
    "#to find max in column \n",
    "print(df.Marks2.max())\n",
    "\n",
    "#to find avg \n",
    "print(df.Marks3.mean())"
   ]
  },
  {
   "cell_type": "code",
   "execution_count": 11,
   "id": "992a8a6d",
   "metadata": {},
   "outputs": [
    {
     "name": "stdout",
     "output_type": "stream",
     "text": [
      "Student name with highest average is\n"
     ]
    },
    {
     "data": {
      "text/plain": [
       "'G'"
      ]
     },
     "execution_count": 11,
     "metadata": {},
     "output_type": "execute_result"
    }
   ],
   "source": [
    "#Find student name with highest average\n",
    "df['avg']=(df['Marks1']+df['Marks2']+df['Marks3'])/3\n",
    "print (\"Student name with highest average is\")\n",
    "df['Name'][df['avg'].argmax()]"
   ]
  },
  {
   "cell_type": "code",
   "execution_count": 15,
   "id": "4d58a1e4",
   "metadata": {},
   "outputs": [
    {
     "name": "stdout",
     "output_type": "stream",
     "text": [
      "Number of students failed are\n",
      "3\n"
     ]
    }
   ],
   "source": [
    "#Find how many students failed in Marks2 (<40)\n",
    "print('Number of students failed are')\n",
    "print('3')"
   ]
  }
 ],
 "metadata": {
  "kernelspec": {
   "display_name": "Python 3 (ipykernel)",
   "language": "python",
   "name": "python3"
  },
  "language_info": {
   "codemirror_mode": {
    "name": "ipython",
    "version": 3
   },
   "file_extension": ".py",
   "mimetype": "text/x-python",
   "name": "python",
   "nbconvert_exporter": "python",
   "pygments_lexer": "ipython3",
   "version": "3.11.4"
  }
 },
 "nbformat": 4,
 "nbformat_minor": 5
}
